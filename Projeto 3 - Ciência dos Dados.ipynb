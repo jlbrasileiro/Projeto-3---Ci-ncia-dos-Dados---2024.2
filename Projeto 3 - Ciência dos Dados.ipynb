{
 "cells": [
  {
   "cell_type": "markdown",
   "id": "2e7a289a",
   "metadata": {},
   "source": [
    "# Projeto 3 - Ciência dos dados"
   ]
  },
  {
   "cell_type": "markdown",
   "id": "8b6c6c91",
   "metadata": {},
   "source": [
    "Nome: João Lucas Brasileiro de Sousa Lopes\n",
    "\n",
    "Nome: Láisa Camilly de Oliveira\n",
    "\n",
    "Nome: Rafael Bravo\n",
    "\n",
    "Nome: Lorenzo Agiman\n",
    "\n"
   ]
  },
  {
   "cell_type": "markdown",
   "id": "e63e48fc",
   "metadata": {},
   "source": [
    "## Pergunta Principal\n",
    "> **Qual o salário mais provável, baseado no tempo de escolaridade de uma pessoa?**"
   ]
  },
  {
   "cell_type": "markdown",
   "id": "a01af0c0",
   "metadata": {},
   "source": [
    "## Introdução\n",
    "Este projeto tem como objetivo prever o salário de uma pessoa com base em seu nível de escolaridade, utilizando os microdados da PNAD Contínua. A PNAD fornece informações abrangentes sobre a situação socioeconômica e laboral da população brasileira, sendo, portanto, uma fonte rica e confiável para investigar a relação entre educação e renda no mercado de trabalho.\n",
    "O salário de um trabalhador é influenciado por múltiplos fatores,como setor de atuação, região geográfica e características demográficas. Neste projeto, buscamos entender como o nível de escolaridade impacta o salário de um trabalhador."
   ]
  },
  {
   "cell_type": "markdown",
   "id": "76b5806e",
   "metadata": {},
   "source": [
    "## Objetivo\n",
    "O objetivo principal do projeto é construir um modelo preditivo que estime o salário de uma pessoa a partir do nível de escolaridade, considerando as seguintes variáveis adicionais para aprimorar a previsão:\n",
    "- **Rendimento Bruto** (Target)\n",
    "- **Escolaridade** (principal variável explicativa)\n",
    "- **Idade**\n",
    "- **Gênero**\n",
    "- **Localização Geográfica** \n",
    "- **Ocupação**\n",
    "- **Raça/Cor**\n",
    "- **Faixa de rendimento**"
   ]
  },
  {
   "cell_type": "markdown",
   "id": "95a2c859",
   "metadata": {},
   "source": []
  }
 ],
 "metadata": {
  "kernelspec": {
   "display_name": "base",
   "language": "python",
   "name": "python3"
  },
  "language_info": {
   "codemirror_mode": {
    "name": "ipython",
    "version": 3
   },
   "file_extension": ".py",
   "mimetype": "text/x-python",
   "name": "python",
   "nbconvert_exporter": "python",
   "pygments_lexer": "ipython3",
   "version": "3.11.4"
  }
 },
 "nbformat": 4,
 "nbformat_minor": 5
}
