{
 "cells": [
  {
   "cell_type": "markdown",
   "id": "2e7a289a",
   "metadata": {},
   "source": [
    "# Projeto 3 - Ciência dos dados"
   ]
  },
  {
   "cell_type": "markdown",
   "id": "8b6c6c91",
   "metadata": {},
   "source": [
    "Nome: João Lucas Brasileiro de Sousa Lopes\n",
    "\n",
    "Nome: Láisa Camilly de Oliveira\n",
    "\n",
    "Nome: Rafael Bravo\n",
    "\n",
    "Nome: Lorenzo Agiman\n",
    "\n"
   ]
  },
  {
   "cell_type": "code",
   "execution_count": null,
   "id": "547313c5",
   "metadata": {},
   "outputs": [],
   "source": []
  }
 ],
 "metadata": {
  "kernelspec": {
   "display_name": "Python 3 (ipykernel)",
   "language": "python",
   "name": "python3"
  },
  "language_info": {
   "codemirror_mode": {
    "name": "ipython",
    "version": 3
   },
   "file_extension": ".py",
   "mimetype": "text/x-python",
   "name": "python",
   "nbconvert_exporter": "python",
   "pygments_lexer": "ipython3",
   "version": "3.11.4"
  }
 },
 "nbformat": 4,
 "nbformat_minor": 5
}
