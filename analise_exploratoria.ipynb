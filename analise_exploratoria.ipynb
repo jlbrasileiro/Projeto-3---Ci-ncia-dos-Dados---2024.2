{
 "cells": [
  {
   "cell_type": "code",
   "execution_count": null,
   "metadata": {},
   "outputs": [],
   "source": [
    "#importações\n",
    "import pandas as pd\n",
    "import numpy as np\n",
    "from scipy import stats\n",
    "import matplotlib.pyplot as plt"
   ]
  },
  {
   "cell_type": "code",
   "execution_count": 3,
   "metadata": {},
   "outputs": [],
   "source": [
    "dados = pd.read_csv('pnad23_filtrado.csv')\n"
   ]
  },
  {
   "cell_type": "code",
   "execution_count": 4,
   "metadata": {},
   "outputs": [
    {
     "data": {
      "text/html": [
       "<div>\n",
       "<style scoped>\n",
       "    .dataframe tbody tr th:only-of-type {\n",
       "        vertical-align: middle;\n",
       "    }\n",
       "\n",
       "    .dataframe tbody tr th {\n",
       "        vertical-align: top;\n",
       "    }\n",
       "\n",
       "    .dataframe thead th {\n",
       "        text-align: right;\n",
       "    }\n",
       "</style>\n",
       "<table border=\"1\" class=\"dataframe\">\n",
       "  <thead>\n",
       "    <tr style=\"text-align: right;\">\n",
       "      <th></th>\n",
       "      <th>Estado</th>\n",
       "      <th>Sexo</th>\n",
       "      <th>Idade</th>\n",
       "      <th>Cor_ou_Raça</th>\n",
       "      <th>Escolaridade</th>\n",
       "      <th>Ocupação</th>\n",
       "      <th>Faixa_de_rendimento</th>\n",
       "      <th>Rendimento_Bruto</th>\n",
       "    </tr>\n",
       "  </thead>\n",
       "  <tbody>\n",
       "    <tr>\n",
       "      <th>0</th>\n",
       "      <td>Rondônia</td>\n",
       "      <td>Homem</td>\n",
       "      <td>30</td>\n",
       "      <td>Parda</td>\n",
       "      <td>Regular do ensino médio ou do 2º grau</td>\n",
       "      <td>Conta Própria</td>\n",
       "      <td>[3SM]+1 a [5SM]</td>\n",
       "      <td>5000.0</td>\n",
       "    </tr>\n",
       "    <tr>\n",
       "      <th>1</th>\n",
       "      <td>Rondônia</td>\n",
       "      <td>Mulher</td>\n",
       "      <td>50</td>\n",
       "      <td>Parda</td>\n",
       "      <td>Superior - graduação</td>\n",
       "      <td>Empregado do setor público (inclusive empresas...</td>\n",
       "      <td>[2SM]+1 a [3SM]</td>\n",
       "      <td>3500.0</td>\n",
       "    </tr>\n",
       "    <tr>\n",
       "      <th>2</th>\n",
       "      <td>Rondônia</td>\n",
       "      <td>Mulher</td>\n",
       "      <td>54</td>\n",
       "      <td>Branca</td>\n",
       "      <td>Superior - graduação</td>\n",
       "      <td>Empregado do setor público (inclusive empresas...</td>\n",
       "      <td>[2SM]+1 a [3SM]</td>\n",
       "      <td>3700.0</td>\n",
       "    </tr>\n",
       "    <tr>\n",
       "      <th>3</th>\n",
       "      <td>Rondônia</td>\n",
       "      <td>Homem</td>\n",
       "      <td>36</td>\n",
       "      <td>Parda</td>\n",
       "      <td>Regular do ensino fundamental ou do 1º grau</td>\n",
       "      <td>Conta Própria</td>\n",
       "      <td>[2SM]+1 a [3SM]</td>\n",
       "      <td>3300.0</td>\n",
       "    </tr>\n",
       "    <tr>\n",
       "      <th>4</th>\n",
       "      <td>Rondônia</td>\n",
       "      <td>Homem</td>\n",
       "      <td>33</td>\n",
       "      <td>Branca</td>\n",
       "      <td>Regular do ensino médio ou do 2º grau</td>\n",
       "      <td>Conta Própria</td>\n",
       "      <td>[2SM]+1 a [3SM]</td>\n",
       "      <td>3500.0</td>\n",
       "    </tr>\n",
       "  </tbody>\n",
       "</table>\n",
       "</div>"
      ],
      "text/plain": [
       "     Estado    Sexo  Idade Cor_ou_Raça  \\\n",
       "0  Rondônia   Homem     30       Parda   \n",
       "1  Rondônia  Mulher     50       Parda   \n",
       "2  Rondônia  Mulher     54      Branca   \n",
       "3  Rondônia   Homem     36       Parda   \n",
       "4  Rondônia   Homem     33      Branca   \n",
       "\n",
       "                                  Escolaridade  \\\n",
       "0        Regular do ensino médio ou do 2º grau   \n",
       "1                         Superior - graduação   \n",
       "2                         Superior - graduação   \n",
       "3  Regular do ensino fundamental ou do 1º grau   \n",
       "4        Regular do ensino médio ou do 2º grau   \n",
       "\n",
       "                                            Ocupação Faixa_de_rendimento  \\\n",
       "0                                      Conta Própria     [3SM]+1 a [5SM]   \n",
       "1  Empregado do setor público (inclusive empresas...     [2SM]+1 a [3SM]   \n",
       "2  Empregado do setor público (inclusive empresas...     [2SM]+1 a [3SM]   \n",
       "3                                      Conta Própria     [2SM]+1 a [3SM]   \n",
       "4                                      Conta Própria     [2SM]+1 a [3SM]   \n",
       "\n",
       "   Rendimento_Bruto  \n",
       "0            5000.0  \n",
       "1            3500.0  \n",
       "2            3700.0  \n",
       "3            3300.0  \n",
       "4            3500.0  "
      ]
     },
     "execution_count": 4,
     "metadata": {},
     "output_type": "execute_result"
    }
   ],
   "source": [
    "dados.head()"
   ]
  },
  {
   "cell_type": "code",
   "execution_count": 5,
   "metadata": {},
   "outputs": [
    {
     "data": {
      "text/plain": [
       "0          Regular do ensino médio ou do 2º grau\n",
       "1                           Superior - graduação\n",
       "2                           Superior - graduação\n",
       "3    Regular do ensino fundamental ou do 1º grau\n",
       "4          Regular do ensino médio ou do 2º grau\n",
       "Name: Escolaridade, dtype: object"
      ]
     },
     "execution_count": 5,
     "metadata": {},
     "output_type": "execute_result"
    }
   ],
   "source": [
    "dados.Escolaridade.head(5)"
   ]
  },
  {
   "cell_type": "code",
   "execution_count": null,
   "metadata": {},
   "outputs": [],
   "source": []
  }
 ],
 "metadata": {
  "kernelspec": {
   "display_name": "base",
   "language": "python",
   "name": "python3"
  },
  "language_info": {
   "codemirror_mode": {
    "name": "ipython",
    "version": 3
   },
   "file_extension": ".py",
   "mimetype": "text/x-python",
   "name": "python",
   "nbconvert_exporter": "python",
   "pygments_lexer": "ipython3",
   "version": "3.11.4"
  }
 },
 "nbformat": 4,
 "nbformat_minor": 2
}
