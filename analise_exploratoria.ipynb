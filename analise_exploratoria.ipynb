{
 "cells": [
  {
   "cell_type": "markdown",
   "metadata": {},
   "source": [
    "# Análise Exploratória - Projeto 3"
   ]
  },
  {
   "cell_type": "markdown",
   "metadata": {},
   "source": [
    "___\n",
    "<div id=\"indice\">\n",
    "\n",
    "## Índice\n",
    "\n",
    "- [Bibliotecas utilizadas](#biblio)\n",
    "- [Importação da base de dados](#base-dados)\n",
    "1. [Escolaridade e Rendimento](#esc-bruto)\n",
    "2. [Distribuição Salarial por Faixa de Rendimento](#salario-faixa)\n",
    "3. [Análise por Sexo e Cor/Raça](#sexo-cor)\n",
    "4. [Análise por Idade](#idade)\n",
    "5. [Distribuição de Ocupação](ocupa)"
   ]
  },
  {
   "cell_type": "markdown",
   "metadata": {},
   "source": [
    "___\n",
    "<div id=\"biblio\"></div>\n",
    "\n",
    "## Importação de bibliotecas utilizadas"
   ]
  },
  {
   "cell_type": "code",
   "execution_count": 1,
   "metadata": {},
   "outputs": [],
   "source": [
    "#importações\n",
    "import pandas as pd\n",
    "import numpy as np\n",
    "from scipy import stats\n",
    "import matplotlib.pyplot as plt"
   ]
  },
  {
   "cell_type": "markdown",
   "metadata": {},
   "source": [
    "___\n",
    "<div id=\"base-dados\"></div>\n",
    "\n",
    "## Importação da base de dados e criação de variáveis:\n",
    "\n",
    "[Índice](#indice)"
   ]
  },
  {
   "cell_type": "code",
   "execution_count": 3,
   "metadata": {},
   "outputs": [],
   "source": [
    "dados = pd.read_csv('pnad23_filtrado.csv')\n"
   ]
  },
  {
   "cell_type": "code",
   "execution_count": null,
   "metadata": {},
   "outputs": [
    {
     "data": {
      "text/html": [
       "<div>\n",
       "<style scoped>\n",
       "    .dataframe tbody tr th:only-of-type {\n",
       "        vertical-align: middle;\n",
       "    }\n",
       "\n",
       "    .dataframe tbody tr th {\n",
       "        vertical-align: top;\n",
       "    }\n",
       "\n",
       "    .dataframe thead th {\n",
       "        text-align: right;\n",
       "    }\n",
       "</style>\n",
       "<table border=\"1\" class=\"dataframe\">\n",
       "  <thead>\n",
       "    <tr style=\"text-align: right;\">\n",
       "      <th></th>\n",
       "      <th>Estado</th>\n",
       "      <th>Sexo</th>\n",
       "      <th>Idade</th>\n",
       "      <th>Cor_ou_Raça</th>\n",
       "      <th>Escolaridade</th>\n",
       "      <th>Ocupação</th>\n",
       "      <th>Faixa_de_rendimento</th>\n",
       "      <th>Rendimento_Bruto</th>\n",
       "    </tr>\n",
       "  </thead>\n",
       "  <tbody>\n",
       "    <tr>\n",
       "      <th>0</th>\n",
       "      <td>Rondônia</td>\n",
       "      <td>Homem</td>\n",
       "      <td>30</td>\n",
       "      <td>Parda</td>\n",
       "      <td>Regular do ensino médio ou do 2º grau</td>\n",
       "      <td>Conta Própria</td>\n",
       "      <td>[3SM]+1 a [5SM]</td>\n",
       "      <td>5000.0</td>\n",
       "    </tr>\n",
       "    <tr>\n",
       "      <th>1</th>\n",
       "      <td>Rondônia</td>\n",
       "      <td>Mulher</td>\n",
       "      <td>50</td>\n",
       "      <td>Parda</td>\n",
       "      <td>Superior - graduação</td>\n",
       "      <td>Empregado do setor público (inclusive empresas...</td>\n",
       "      <td>[2SM]+1 a [3SM]</td>\n",
       "      <td>3500.0</td>\n",
       "    </tr>\n",
       "    <tr>\n",
       "      <th>2</th>\n",
       "      <td>Rondônia</td>\n",
       "      <td>Mulher</td>\n",
       "      <td>54</td>\n",
       "      <td>Branca</td>\n",
       "      <td>Superior - graduação</td>\n",
       "      <td>Empregado do setor público (inclusive empresas...</td>\n",
       "      <td>[2SM]+1 a [3SM]</td>\n",
       "      <td>3700.0</td>\n",
       "    </tr>\n",
       "    <tr>\n",
       "      <th>3</th>\n",
       "      <td>Rondônia</td>\n",
       "      <td>Homem</td>\n",
       "      <td>36</td>\n",
       "      <td>Parda</td>\n",
       "      <td>Regular do ensino fundamental ou do 1º grau</td>\n",
       "      <td>Conta Própria</td>\n",
       "      <td>[2SM]+1 a [3SM]</td>\n",
       "      <td>3300.0</td>\n",
       "    </tr>\n",
       "    <tr>\n",
       "      <th>4</th>\n",
       "      <td>Rondônia</td>\n",
       "      <td>Homem</td>\n",
       "      <td>33</td>\n",
       "      <td>Branca</td>\n",
       "      <td>Regular do ensino médio ou do 2º grau</td>\n",
       "      <td>Conta Própria</td>\n",
       "      <td>[2SM]+1 a [3SM]</td>\n",
       "      <td>3500.0</td>\n",
       "    </tr>\n",
       "  </tbody>\n",
       "</table>\n",
       "</div>"
      ],
      "text/plain": [
       "     Estado    Sexo  Idade Cor_ou_Raça  \\\n",
       "0  Rondônia   Homem     30       Parda   \n",
       "1  Rondônia  Mulher     50       Parda   \n",
       "2  Rondônia  Mulher     54      Branca   \n",
       "3  Rondônia   Homem     36       Parda   \n",
       "4  Rondônia   Homem     33      Branca   \n",
       "\n",
       "                                  Escolaridade  \\\n",
       "0        Regular do ensino médio ou do 2º grau   \n",
       "1                         Superior - graduação   \n",
       "2                         Superior - graduação   \n",
       "3  Regular do ensino fundamental ou do 1º grau   \n",
       "4        Regular do ensino médio ou do 2º grau   \n",
       "\n",
       "                                            Ocupação Faixa_de_rendimento  \\\n",
       "0                                      Conta Própria     [3SM]+1 a [5SM]   \n",
       "1  Empregado do setor público (inclusive empresas...     [2SM]+1 a [3SM]   \n",
       "2  Empregado do setor público (inclusive empresas...     [2SM]+1 a [3SM]   \n",
       "3                                      Conta Própria     [2SM]+1 a [3SM]   \n",
       "4                                      Conta Própria     [2SM]+1 a [3SM]   \n",
       "\n",
       "   Rendimento_Bruto  \n",
       "0            5000.0  \n",
       "1            3500.0  \n",
       "2            3700.0  \n",
       "3            3300.0  \n",
       "4            3500.0  "
      ]
     },
     "execution_count": 3,
     "metadata": {},
     "output_type": "execute_result"
    }
   ],
   "source": [
    "dados.head(5)"
   ]
  },
  {
   "cell_type": "code",
   "execution_count": null,
   "metadata": {},
   "outputs": [
    {
     "data": {
      "text/plain": [
       "0          Regular do ensino médio ou do 2º grau\n",
       "1                           Superior - graduação\n",
       "2                           Superior - graduação\n",
       "3    Regular do ensino fundamental ou do 1º grau\n",
       "4          Regular do ensino médio ou do 2º grau\n",
       "Name: Escolaridade, dtype: object"
      ]
     },
     "execution_count": 4,
     "metadata": {},
     "output_type": "execute_result"
    }
   ],
   "source": [
    "dados.Escolaridade.head(5)"
   ]
  },
  {
   "cell_type": "code",
   "execution_count": null,
   "metadata": {},
   "outputs": [
    {
     "data": {
      "text/html": [
       "<div>\n",
       "<style scoped>\n",
       "    .dataframe tbody tr th:only-of-type {\n",
       "        vertical-align: middle;\n",
       "    }\n",
       "\n",
       "    .dataframe tbody tr th {\n",
       "        vertical-align: top;\n",
       "    }\n",
       "\n",
       "    .dataframe thead th {\n",
       "        text-align: right;\n",
       "    }\n",
       "</style>\n",
       "<table border=\"1\" class=\"dataframe\">\n",
       "  <thead>\n",
       "    <tr style=\"text-align: right;\">\n",
       "      <th></th>\n",
       "      <th>0</th>\n",
       "    </tr>\n",
       "  </thead>\n",
       "  <tbody>\n",
       "    <tr>\n",
       "      <th>0</th>\n",
       "      <td>Estado</td>\n",
       "    </tr>\n",
       "    <tr>\n",
       "      <th>1</th>\n",
       "      <td>Sexo</td>\n",
       "    </tr>\n",
       "    <tr>\n",
       "      <th>2</th>\n",
       "      <td>Idade</td>\n",
       "    </tr>\n",
       "    <tr>\n",
       "      <th>3</th>\n",
       "      <td>Cor_ou_Raça</td>\n",
       "    </tr>\n",
       "    <tr>\n",
       "      <th>4</th>\n",
       "      <td>Escolaridade</td>\n",
       "    </tr>\n",
       "    <tr>\n",
       "      <th>5</th>\n",
       "      <td>Ocupação</td>\n",
       "    </tr>\n",
       "    <tr>\n",
       "      <th>6</th>\n",
       "      <td>Faixa_de_rendimento</td>\n",
       "    </tr>\n",
       "    <tr>\n",
       "      <th>7</th>\n",
       "      <td>Rendimento_Bruto</td>\n",
       "    </tr>\n",
       "  </tbody>\n",
       "</table>\n",
       "</div>"
      ],
      "text/plain": [
       "                     0\n",
       "0               Estado\n",
       "1                 Sexo\n",
       "2                Idade\n",
       "3          Cor_ou_Raça\n",
       "4         Escolaridade\n",
       "5             Ocupação\n",
       "6  Faixa_de_rendimento\n",
       "7     Rendimento_Bruto"
      ]
     },
     "metadata": {},
     "output_type": "display_data"
    }
   ],
   "source": [
    "display(pd.Series(dados.columns).to_frame())"
   ]
  },
  {
   "cell_type": "code",
   "execution_count": null,
   "metadata": {},
   "outputs": [
    {
     "data": {
      "text/plain": [
       "Estado                  object\n",
       "Sexo                    object\n",
       "Idade                    int64\n",
       "Cor_ou_Raça             object\n",
       "Escolaridade            object\n",
       "Ocupação                object\n",
       "Faixa_de_rendimento     object\n",
       "Rendimento_Bruto       float64\n",
       "dtype: object"
      ]
     },
     "execution_count": 6,
     "metadata": {},
     "output_type": "execute_result"
    }
   ],
   "source": [
    "dados.dtypes"
   ]
  },
  {
   "cell_type": "markdown",
   "metadata": {},
   "source": [
    "___\n",
    "<div id=\"esc-bruto\"></div>\n",
    "\n",
    "## Análise de relação de Escolaridade X Rendimento Bruto"
   ]
  },
  {
   "cell_type": "markdown",
   "metadata": {},
   "source": [
    "[Índice](#indice)"
   ]
  },
  {
   "cell_type": "code",
   "execution_count": null,
   "metadata": {},
   "outputs": [
    {
     "data": {
      "text/plain": [
       "0               Regular do ensino médio ou do 2º grau\n",
       "1                                Superior - graduação\n",
       "2                                Superior - graduação\n",
       "3         Regular do ensino fundamental ou do 1º grau\n",
       "4               Regular do ensino médio ou do 2º grau\n",
       "                             ...                     \n",
       "175176                           Superior - graduação\n",
       "175177                           Superior - graduação\n",
       "175178               Especialização de nível superior\n",
       "175179                           Superior - graduação\n",
       "175180                           Superior - graduação\n",
       "Name: Escolaridade, Length: 175181, dtype: object"
      ]
     },
     "execution_count": 7,
     "metadata": {},
     "output_type": "execute_result"
    }
   ],
   "source": [
    "dados['Escolaridade']"
   ]
  },
  {
   "cell_type": "code",
   "execution_count": null,
   "metadata": {},
   "outputs": [
    {
     "data": {
      "text/plain": [
       "0          5000.0\n",
       "1          3500.0\n",
       "2          3700.0\n",
       "3          3300.0\n",
       "4          3500.0\n",
       "           ...   \n",
       "175176     5000.0\n",
       "175177     3500.0\n",
       "175178    10000.0\n",
       "175179     5000.0\n",
       "175180     5000.0\n",
       "Name: Rendimento_Bruto, Length: 175181, dtype: float64"
      ]
     },
     "execution_count": 8,
     "metadata": {},
     "output_type": "execute_result"
    }
   ],
   "source": [
    "dados['Rendimento_Bruto']"
   ]
  },
  {
   "cell_type": "code",
   "execution_count": null,
   "metadata": {},
   "outputs": [
    {
     "data": {
      "text/html": [
       "<div>\n",
       "<style scoped>\n",
       "    .dataframe tbody tr th:only-of-type {\n",
       "        vertical-align: middle;\n",
       "    }\n",
       "\n",
       "    .dataframe tbody tr th {\n",
       "        vertical-align: top;\n",
       "    }\n",
       "\n",
       "    .dataframe thead th {\n",
       "        text-align: right;\n",
       "    }\n",
       "</style>\n",
       "<table border=\"1\" class=\"dataframe\">\n",
       "  <thead>\n",
       "    <tr style=\"text-align: right;\">\n",
       "      <th></th>\n",
       "      <th>Rendimento_Bruto</th>\n",
       "    </tr>\n",
       "    <tr>\n",
       "      <th>Escolaridade</th>\n",
       "      <th></th>\n",
       "    </tr>\n",
       "  </thead>\n",
       "  <tbody>\n",
       "    <tr>\n",
       "      <th>Alfabetização de jovens e adultos</th>\n",
       "      <td>1166.118881</td>\n",
       "    </tr>\n",
       "    <tr>\n",
       "      <th>Antigo científico, clássico, etc. (médio 2º ciclo)</th>\n",
       "      <td>3239.437500</td>\n",
       "    </tr>\n",
       "    <tr>\n",
       "      <th>Antigo ginásio (médio 1º ciclo)</th>\n",
       "      <td>2135.835387</td>\n",
       "    </tr>\n",
       "    <tr>\n",
       "      <th>Antigo primário (elementar)</th>\n",
       "      <td>1720.580989</td>\n",
       "    </tr>\n",
       "    <tr>\n",
       "      <th>Classe de alfabetização - CA</th>\n",
       "      <td>993.057121</td>\n",
       "    </tr>\n",
       "    <tr>\n",
       "      <th>Creche (disponível apenas no questionário anual de educação)</th>\n",
       "      <td>920.000000</td>\n",
       "    </tr>\n",
       "    <tr>\n",
       "      <th>Doutorado</th>\n",
       "      <td>11534.009063</td>\n",
       "    </tr>\n",
       "    <tr>\n",
       "      <th>Educação de jovens e adultos (EJA) ou supletivo do 1º grau</th>\n",
       "      <td>1505.987119</td>\n",
       "    </tr>\n",
       "    <tr>\n",
       "      <th>Educação de jovens e adultos (EJA) ou supletivo do 2º grau</th>\n",
       "      <td>1937.792736</td>\n",
       "    </tr>\n",
       "    <tr>\n",
       "      <th>Especialização de nível superior</th>\n",
       "      <td>6712.481419</td>\n",
       "    </tr>\n",
       "    <tr>\n",
       "      <th>Mestrado</th>\n",
       "      <td>9030.926513</td>\n",
       "    </tr>\n",
       "    <tr>\n",
       "      <th>Pré-escola</th>\n",
       "      <td>1194.675889</td>\n",
       "    </tr>\n",
       "    <tr>\n",
       "      <th>Regular do ensino fundamental ou do 1º grau</th>\n",
       "      <td>1646.163708</td>\n",
       "    </tr>\n",
       "    <tr>\n",
       "      <th>Regular do ensino médio ou do 2º grau</th>\n",
       "      <td>2033.459769</td>\n",
       "    </tr>\n",
       "    <tr>\n",
       "      <th>Superior - graduação</th>\n",
       "      <td>4313.732282</td>\n",
       "    </tr>\n",
       "  </tbody>\n",
       "</table>\n",
       "</div>"
      ],
      "text/plain": [
       "                                                    Rendimento_Bruto\n",
       "Escolaridade                                                        \n",
       "Alfabetização de jovens e adultos                        1166.118881\n",
       "Antigo científico, clássico, etc. (médio 2º ciclo)       3239.437500\n",
       "Antigo ginásio (médio 1º ciclo)                          2135.835387\n",
       "Antigo primário (elementar)                              1720.580989\n",
       "Classe de alfabetização - CA                              993.057121\n",
       "Creche (disponível apenas no questionário anual...        920.000000\n",
       "Doutorado                                               11534.009063\n",
       "Educação de jovens e adultos (EJA) ou supletivo...       1505.987119\n",
       "Educação de jovens e adultos (EJA) ou supletivo...       1937.792736\n",
       "Especialização de nível superior                         6712.481419\n",
       "Mestrado                                                 9030.926513\n",
       "Pré-escola                                               1194.675889\n",
       "Regular do ensino fundamental ou do 1º grau              1646.163708\n",
       "Regular do ensino médio ou do 2º grau                    2033.459769\n",
       "Superior - graduação                                     4313.732282"
      ]
     },
     "execution_count": 9,
     "metadata": {},
     "output_type": "execute_result"
    }
   ],
   "source": [
    "#Calculando média para cada tipo de escolaridade \n",
    "media_salario = dados.groupby('Escolaridade')['Rendimento_Bruto'].mean()\n",
    "media_salario.to_frame()"
   ]
  },
  {
   "cell_type": "code",
   "execution_count": null,
   "metadata": {},
   "outputs": [
    {
     "data": {
      "text/html": [
       "<div>\n",
       "<style scoped>\n",
       "    .dataframe tbody tr th:only-of-type {\n",
       "        vertical-align: middle;\n",
       "    }\n",
       "\n",
       "    .dataframe tbody tr th {\n",
       "        vertical-align: top;\n",
       "    }\n",
       "\n",
       "    .dataframe thead th {\n",
       "        text-align: right;\n",
       "    }\n",
       "</style>\n",
       "<table border=\"1\" class=\"dataframe\">\n",
       "  <thead>\n",
       "    <tr style=\"text-align: right;\">\n",
       "      <th></th>\n",
       "      <th>Rendimento_Bruto</th>\n",
       "    </tr>\n",
       "    <tr>\n",
       "      <th>Escolaridade</th>\n",
       "      <th></th>\n",
       "    </tr>\n",
       "  </thead>\n",
       "  <tbody>\n",
       "    <tr>\n",
       "      <th>Alfabetização de jovens e adultos</th>\n",
       "      <td>960.0</td>\n",
       "    </tr>\n",
       "    <tr>\n",
       "      <th>Antigo científico, clássico, etc. (médio 2º ciclo)</th>\n",
       "      <td>2000.0</td>\n",
       "    </tr>\n",
       "    <tr>\n",
       "      <th>Antigo ginásio (médio 1º ciclo)</th>\n",
       "      <td>1500.0</td>\n",
       "    </tr>\n",
       "    <tr>\n",
       "      <th>Antigo primário (elementar)</th>\n",
       "      <td>1320.0</td>\n",
       "    </tr>\n",
       "    <tr>\n",
       "      <th>Classe de alfabetização - CA</th>\n",
       "      <td>700.0</td>\n",
       "    </tr>\n",
       "    <tr>\n",
       "      <th>Creche (disponível apenas no questionário anual de educação)</th>\n",
       "      <td>600.0</td>\n",
       "    </tr>\n",
       "    <tr>\n",
       "      <th>Doutorado</th>\n",
       "      <td>10000.0</td>\n",
       "    </tr>\n",
       "    <tr>\n",
       "      <th>Educação de jovens e adultos (EJA) ou supletivo do 1º grau</th>\n",
       "      <td>1320.0</td>\n",
       "    </tr>\n",
       "    <tr>\n",
       "      <th>Educação de jovens e adultos (EJA) ou supletivo do 2º grau</th>\n",
       "      <td>1500.0</td>\n",
       "    </tr>\n",
       "    <tr>\n",
       "      <th>Especialização de nível superior</th>\n",
       "      <td>5000.0</td>\n",
       "    </tr>\n",
       "    <tr>\n",
       "      <th>Mestrado</th>\n",
       "      <td>6100.0</td>\n",
       "    </tr>\n",
       "    <tr>\n",
       "      <th>Pré-escola</th>\n",
       "      <td>1300.0</td>\n",
       "    </tr>\n",
       "    <tr>\n",
       "      <th>Regular do ensino fundamental ou do 1º grau</th>\n",
       "      <td>1320.0</td>\n",
       "    </tr>\n",
       "    <tr>\n",
       "      <th>Regular do ensino médio ou do 2º grau</th>\n",
       "      <td>1500.0</td>\n",
       "    </tr>\n",
       "    <tr>\n",
       "      <th>Superior - graduação</th>\n",
       "      <td>3000.0</td>\n",
       "    </tr>\n",
       "  </tbody>\n",
       "</table>\n",
       "</div>"
      ],
      "text/plain": [
       "                                                    Rendimento_Bruto\n",
       "Escolaridade                                                        \n",
       "Alfabetização de jovens e adultos                              960.0\n",
       "Antigo científico, clássico, etc. (médio 2º ciclo)            2000.0\n",
       "Antigo ginásio (médio 1º ciclo)                               1500.0\n",
       "Antigo primário (elementar)                                   1320.0\n",
       "Classe de alfabetização - CA                                   700.0\n",
       "Creche (disponível apenas no questionário anual...             600.0\n",
       "Doutorado                                                    10000.0\n",
       "Educação de jovens e adultos (EJA) ou supletivo...            1320.0\n",
       "Educação de jovens e adultos (EJA) ou supletivo...            1500.0\n",
       "Especialização de nível superior                              5000.0\n",
       "Mestrado                                                      6100.0\n",
       "Pré-escola                                                    1300.0\n",
       "Regular do ensino fundamental ou do 1º grau                   1320.0\n",
       "Regular do ensino médio ou do 2º grau                         1500.0\n",
       "Superior - graduação                                          3000.0"
      ]
     },
     "execution_count": 10,
     "metadata": {},
     "output_type": "execute_result"
    }
   ],
   "source": [
    "#Calculando mediana para cada tipo de escolaridade\n",
    "mediana_salario = dados.groupby('Escolaridade')['Rendimento_Bruto'].median()\n",
    "mediana_salario.to_frame()"
   ]
  },
  {
   "cell_type": "code",
   "execution_count": null,
   "metadata": {},
   "outputs": [
    {
     "data": {
      "image/png": "[encoded data removed]",
      "text/plain": [
       "<Figure size 1000x600 with 2 Axes>"
      ]
     },
     "metadata": {},
     "output_type": "display_data"
    }
   ],
   "source": [
    "plt.figure(figsize=(10,6))\n",
    "plt.subplot(121)\n",
    "media_salario.plot(kind = 'bar')\n",
    "plt.subplot(122)\n",
    "mediana_salario.plot(kind = 'bar');\n",
    "plt.xlabel('Escolaridade')\n",
    "plt.ylabel('Rendimento Bruto')\n",
    "plt.title('Média e Mediana de Rendimento Bruto por Escolaridade')\n",
    "plt.legend()\n",
    "plt.show()"
   ]
  },
  {
   "cell_type": "markdown",
   "metadata": {},
   "source": [
    "___\n",
    "<div id=\"sexo-cor\"></div>\n",
    "\n",
    "## Análise por Sexo e Cor/Raça\n",
    "\n",
    "[Índice](#indice)"
   ]
  },
  {
   "cell_type": "code",
   "execution_count": null,
   "metadata": {},
   "outputs": [],
   "source": [
    "sexo_raca = dados[['Cor_ou_Raça', 'Sexo', 'Rendimento_Bruto']]"
   ]
  },
  {
   "cell_type": "code",
   "execution_count": null,
   "metadata": {},
   "outputs": [
    {
     "data": {
      "text/html": [
       "<div>\n",
       "<style scoped>\n",
       "    .dataframe tbody tr th:only-of-type {\n",
       "        vertical-align: middle;\n",
       "    }\n",
       "\n",
       "    .dataframe tbody tr th {\n",
       "        vertical-align: top;\n",
       "    }\n",
       "\n",
       "    .dataframe thead th {\n",
       "        text-align: right;\n",
       "    }\n",
       "</style>\n",
       "<table border=\"1\" class=\"dataframe\">\n",
       "  <thead>\n",
       "    <tr style=\"text-align: right;\">\n",
       "      <th></th>\n",
       "      <th>Cor_ou_Raça</th>\n",
       "      <th>Sexo</th>\n",
       "      <th>Rendimento_Bruto</th>\n",
       "    </tr>\n",
       "  </thead>\n",
       "  <tbody>\n",
       "    <tr>\n",
       "      <th>0</th>\n",
       "      <td>Parda</td>\n",
       "      <td>Homem</td>\n",
       "      <td>5000.0</td>\n",
       "    </tr>\n",
       "    <tr>\n",
       "      <th>1</th>\n",
       "      <td>Parda</td>\n",
       "      <td>Mulher</td>\n",
       "      <td>3500.0</td>\n",
       "    </tr>\n",
       "    <tr>\n",
       "      <th>2</th>\n",
       "      <td>Branca</td>\n",
       "      <td>Mulher</td>\n",
       "      <td>3700.0</td>\n",
       "    </tr>\n",
       "    <tr>\n",
       "      <th>3</th>\n",
       "      <td>Parda</td>\n",
       "      <td>Homem</td>\n",
       "      <td>3300.0</td>\n",
       "    </tr>\n",
       "    <tr>\n",
       "      <th>4</th>\n",
       "      <td>Branca</td>\n",
       "      <td>Homem</td>\n",
       "      <td>3500.0</td>\n",
       "    </tr>\n",
       "    <tr>\n",
       "      <th>...</th>\n",
       "      <td>...</td>\n",
       "      <td>...</td>\n",
       "      <td>...</td>\n",
       "    </tr>\n",
       "    <tr>\n",
       "      <th>175176</th>\n",
       "      <td>Branca</td>\n",
       "      <td>Mulher</td>\n",
       "      <td>5000.0</td>\n",
       "    </tr>\n",
       "    <tr>\n",
       "      <th>175177</th>\n",
       "      <td>Branca</td>\n",
       "      <td>Mulher</td>\n",
       "      <td>3500.0</td>\n",
       "    </tr>\n",
       "    <tr>\n",
       "      <th>175178</th>\n",
       "      <td>Branca</td>\n",
       "      <td>Homem</td>\n",
       "      <td>10000.0</td>\n",
       "    </tr>\n",
       "    <tr>\n",
       "      <th>175179</th>\n",
       "      <td>Branca</td>\n",
       "      <td>Homem</td>\n",
       "      <td>5000.0</td>\n",
       "    </tr>\n",
       "    <tr>\n",
       "      <th>175180</th>\n",
       "      <td>Branca</td>\n",
       "      <td>Mulher</td>\n",
       "      <td>5000.0</td>\n",
       "    </tr>\n",
       "  </tbody>\n",
       "</table>\n",
       "<p>175181 rows × 3 columns</p>\n",
       "</div>"
      ],
      "text/plain": [
       "       Cor_ou_Raça    Sexo  Rendimento_Bruto\n",
       "0            Parda   Homem            5000.0\n",
       "1            Parda  Mulher            3500.0\n",
       "2           Branca  Mulher            3700.0\n",
       "3            Parda   Homem            3300.0\n",
       "4           Branca   Homem            3500.0\n",
       "...            ...     ...               ...\n",
       "175176      Branca  Mulher            5000.0\n",
       "175177      Branca  Mulher            3500.0\n",
       "175178      Branca   Homem           10000.0\n",
       "175179      Branca   Homem            5000.0\n",
       "175180      Branca  Mulher            5000.0\n",
       "\n",
       "[175181 rows x 3 columns]"
      ]
     },
     "execution_count": 28,
     "metadata": {},
     "output_type": "execute_result"
    }
   ],
   "source": [
    "sexo_raca"
   ]
  },
  {
   "cell_type": "code",
   "execution_count": null,
   "metadata": {},
   "outputs": [],
   "source": []
  },
  {
   "cell_type": "markdown",
   "metadata": {},
   "source": [
    "___\n",
    "<div id=\"idade\"></div>\n",
    "\n",
    "## Análise por Idade\n",
    "\n",
    "[Índice](#indice)\n",
    "\n",
    "- Temos que a idade miníma é de 14 anos, e a idade máxima é de 13 anos.\n",
    "- Assim, dividindo em faixas etárias a nossa amostra temos:\n",
    "\n",
    "**<p style = 'color: pink'> Faixas Etárias </p>**\n",
    "\n",
    "    - Adolescente: Até 17 anos.\n",
    "    - Adulto: Entre 18 anos à 59 anos.\n",
    "    - Idoso: De e 60 anos pra cima."
   ]
  },
  {
   "cell_type": "code",
   "execution_count": 24,
   "metadata": {},
   "outputs": [],
   "source": [
    "descricao = dados['Idade'].describe()\n",
    "\n",
    "# Idade Minima: 14 anos.\n",
    "# Idade máxima: 103 anos."
   ]
  },
  {
   "cell_type": "code",
   "execution_count": 80,
   "metadata": {},
   "outputs": [],
   "source": [
    "adolescente = dados.loc[dados['Idade'] < 18]\n",
    "adulto = dados.loc[(dados['Idade'] >= 18) & (dados['Idade'] < 59)]\n",
    "idoso = dados.loc[dados['Idade'] >= 60]"
   ]
  },
  {
   "cell_type": "markdown",
   "metadata": {},
   "source": [
    "**<p style = 'color: pink'> Visualizando em histogramas as faixas etárias.**"
   ]
  },
  {
   "cell_type": "code",
   "execution_count": 83,
   "metadata": {},
   "outputs": [
    {
     "data": {
      "image/png": "[encoded data removed]",
      "text/plain": [
       "<Figure size 1000x1200 with 3 Axes>"
      ]
     },
     "metadata": {},
     "output_type": "display_data"
    }
   ],
   "source": [
    "# Uma melhor visualização:\n",
    "plt.figure( figsize = (10,12))\n",
    "\n",
    "plt.subplot(2,2,1)\n",
    "plt.title('Adolescentes (Até 17 anos)')\n",
    "plt.hist(adolescente['Idade'], color = 'green', edgecolor = 'black')\n",
    "plt.xlabel('Idade')\n",
    "plt.xticks(range(14, 18, 1))\n",
    "\n",
    "\n",
    "plt.subplot(2,2,2)\n",
    "plt.title('Adultos (Até 59 anos)')\n",
    "plt.hist(adulto['Idade'], color = 'purple', edgecolor = 'black')\n",
    "plt.xlabel('Idade')\n",
    "\n",
    "plt.subplot(2,2,3)\n",
    "plt.title('Idosos (Acima de 60 anos)')\n",
    "plt.hist(idoso['Idade'], color = 'purple', edgecolor = 'black')\n",
    "plt.xlabel('Idade');\n"
   ]
  },
  {
   "cell_type": "code",
   "execution_count": 104,
   "metadata": {},
   "outputs": [
    {
     "data": {
      "text/html": [
       "<div>\n",
       "<style scoped>\n",
       "    .dataframe tbody tr th:only-of-type {\n",
       "        vertical-align: middle;\n",
       "    }\n",
       "\n",
       "    .dataframe tbody tr th {\n",
       "        vertical-align: top;\n",
       "    }\n",
       "\n",
       "    .dataframe thead th {\n",
       "        text-align: right;\n",
       "    }\n",
       "</style>\n",
       "<table border=\"1\" class=\"dataframe\">\n",
       "  <thead>\n",
       "    <tr style=\"text-align: right;\">\n",
       "      <th>Idade</th>\n",
       "      <th>14</th>\n",
       "      <th>15</th>\n",
       "      <th>16</th>\n",
       "      <th>17</th>\n",
       "    </tr>\n",
       "    <tr>\n",
       "      <th>Rendimento_Bruto</th>\n",
       "      <th></th>\n",
       "      <th></th>\n",
       "      <th></th>\n",
       "      <th></th>\n",
       "    </tr>\n",
       "  </thead>\n",
       "  <tbody>\n",
       "    <tr>\n",
       "      <th>30.0</th>\n",
       "      <td>0.0</td>\n",
       "      <td>0.000</td>\n",
       "      <td>0.000</td>\n",
       "      <td>0.002</td>\n",
       "    </tr>\n",
       "    <tr>\n",
       "      <th>40.0</th>\n",
       "      <td>0.0</td>\n",
       "      <td>0.000</td>\n",
       "      <td>0.000</td>\n",
       "      <td>0.002</td>\n",
       "    </tr>\n",
       "    <tr>\n",
       "      <th>50.0</th>\n",
       "      <td>0.0</td>\n",
       "      <td>0.000</td>\n",
       "      <td>0.007</td>\n",
       "      <td>0.002</td>\n",
       "    </tr>\n",
       "    <tr>\n",
       "      <th>60.0</th>\n",
       "      <td>0.0</td>\n",
       "      <td>0.000</td>\n",
       "      <td>0.000</td>\n",
       "      <td>0.002</td>\n",
       "    </tr>\n",
       "    <tr>\n",
       "      <th>70.0</th>\n",
       "      <td>0.0</td>\n",
       "      <td>0.000</td>\n",
       "      <td>0.002</td>\n",
       "      <td>0.002</td>\n",
       "    </tr>\n",
       "    <tr>\n",
       "      <th>...</th>\n",
       "      <td>...</td>\n",
       "      <td>...</td>\n",
       "      <td>...</td>\n",
       "      <td>...</td>\n",
       "    </tr>\n",
       "    <tr>\n",
       "      <th>2720.0</th>\n",
       "      <td>0.0</td>\n",
       "      <td>0.000</td>\n",
       "      <td>0.000</td>\n",
       "      <td>0.002</td>\n",
       "    </tr>\n",
       "    <tr>\n",
       "      <th>3000.0</th>\n",
       "      <td>0.0</td>\n",
       "      <td>0.000</td>\n",
       "      <td>0.000</td>\n",
       "      <td>0.007</td>\n",
       "    </tr>\n",
       "    <tr>\n",
       "      <th>3600.0</th>\n",
       "      <td>0.0</td>\n",
       "      <td>0.000</td>\n",
       "      <td>0.000</td>\n",
       "      <td>0.002</td>\n",
       "    </tr>\n",
       "    <tr>\n",
       "      <th>4000.0</th>\n",
       "      <td>0.0</td>\n",
       "      <td>0.002</td>\n",
       "      <td>0.000</td>\n",
       "      <td>0.002</td>\n",
       "    </tr>\n",
       "    <tr>\n",
       "      <th>5000.0</th>\n",
       "      <td>0.0</td>\n",
       "      <td>0.002</td>\n",
       "      <td>0.000</td>\n",
       "      <td>0.000</td>\n",
       "    </tr>\n",
       "  </tbody>\n",
       "</table>\n",
       "<p>70 rows × 4 columns</p>\n",
       "</div>"
      ],
      "text/plain": [
       "Idade              14     15     16     17\n",
       "Rendimento_Bruto                          \n",
       "30.0              0.0  0.000  0.000  0.002\n",
       "40.0              0.0  0.000  0.000  0.002\n",
       "50.0              0.0  0.000  0.007  0.002\n",
       "60.0              0.0  0.000  0.000  0.002\n",
       "70.0              0.0  0.000  0.002  0.002\n",
       "...               ...    ...    ...    ...\n",
       "2720.0            0.0  0.000  0.000  0.002\n",
       "3000.0            0.0  0.000  0.000  0.007\n",
       "3600.0            0.0  0.000  0.000  0.002\n",
       "4000.0            0.0  0.002  0.000  0.002\n",
       "5000.0            0.0  0.002  0.000  0.000\n",
       "\n",
       "[70 rows x 4 columns]"
      ]
     },
     "execution_count": 104,
     "metadata": {},
     "output_type": "execute_result"
    }
   ],
   "source": [
    "# Ver quantos cada ganha, de acordo com a idade:\n",
    "# É preciso analisar por faixa!\n",
    "\n",
    "ado_rend = adolescente[['Idade','Rendimento_Bruto']]\n",
    "pd.crosstab(ado_rend['Rendimento_Bruto'], ado_rend['Idade'], normalize = True).round(3)"
   ]
  },
  {
   "cell_type": "markdown",
   "metadata": {},
   "source": [
    "___\n",
    "<div id=\"ocupa\"></div>\n",
    "\n",
    "#### Faixa de rendimento\n",
    "\n",
    "- kdkbobd\n",
    "- vkals"
   ]
  },
  {
   "cell_type": "markdown",
   "metadata": {},
   "source": [
    "___\n",
    "<div id=\"ocupa\"></div>\n",
    "\n",
    "## Distribuição por Ocupação\n",
    "\n",
    "[Índice](#indice)"
   ]
  },
  {
   "cell_type": "markdown",
   "metadata": {},
   "source": []
  }
 ],
 "metadata": {
  "kernelspec": {
   "display_name": "base",
   "language": "python",
   "name": "python3"
  },
  "language_info": {
   "codemirror_mode": {
    "name": "ipython",
    "version": 3
   },
   "file_extension": ".py",
   "mimetype": "text/x-python",
   "name": "python",
   "nbconvert_exporter": "python",
   "pygments_lexer": "ipython3",
   "version": "3.11.5"
  }
 },
 "nbformat": 4,
 "nbformat_minor": 2
}
